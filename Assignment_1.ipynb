{
  "nbformat": 4,
  "nbformat_minor": 0,
  "metadata": {
    "colab": {
      "provenance": [],
      "include_colab_link": true
    },
    "kernelspec": {
      "name": "python3",
      "display_name": "Python 3"
    },
    "language_info": {
      "name": "python"
    }
  },
  "cells": [
    {
      "cell_type": "markdown",
      "metadata": {
        "id": "view-in-github",
        "colab_type": "text"
      },
      "source": [
        "<a href=\"https://colab.research.google.com/github/Harshavardhanjakku/AIML_Batch3/blob/main/Assignment_1.ipynb\" target=\"_parent\"><img src=\"https://colab.research.google.com/assets/colab-badge.svg\" alt=\"Open In Colab\"/></a>"
      ]
    },
    {
      "cell_type": "markdown",
      "source": [
        "# part-1 implement basic Data structers using numpy,panads"
      ],
      "metadata": {
        "id": "1XasbIBmhcQT"
      }
    },
    {
      "cell_type": "code",
      "source": [
        "#1.lists\n",
        "\n",
        "l=[]\n",
        "n=int(input(\"enter the number of elements in list:\"))\n",
        "\n",
        "#list creation and using append\n",
        "for i in range(n):\n",
        "  l.append(input(\"enter the element:\"))\n",
        "print(\"The created list is:\",l)\n",
        "#len fuunction\n",
        "print(\"The length of the string is:\",len(l))\n",
        "\n",
        "#using insert\n",
        "n =input(\"enter the value to be inserted:\")\n",
        "ind =int(input(\"enter the index number:\"))\n",
        "l.insert(ind,n)\n",
        "print(\"The list is:\",l)\n",
        "\n",
        "#extend function\n",
        "n=list(input(\"enter multiple values:\").split( ))\n",
        "l.extend(n)\n",
        "print(\"The list is:\",l)\n",
        "\n",
        "#accessing elements from the list\n",
        "ind=int(input(\"enter the index of a number:\"))\n",
        "print(\"The value of the element at entered index is:\",l[ind])\n",
        "\n",
        "#removing elements in the list\n",
        "n=input(\"enter the value to be removed:\")\n",
        "l.remove(n)\n",
        "print(\"The list is:\",l)\n",
        "\n",
        "#removing an element from the list using del function\n",
        "ind =int(input(\"enter the index number to deleted:\"))\n",
        "del l[ind]\n",
        "print(\"The list is:\",l)\n",
        "\n",
        "#pop function\n",
        "print(\"\\nThe popped value is:\",l.pop())\n",
        "\n",
        "#list comprension\n",
        "print(\"\\nThe old list is:\",l)\n",
        "new_list= [i for i in l if l.index(i)%2==0]\n",
        "print(\"\\nnew list after list compresion which returns only even indexes is:\",new_list)\n"
      ],
      "metadata": {
        "id": "V2dSuNENiIJO"
      },
      "execution_count": null,
      "outputs": []
    },
    {
      "cell_type": "code",
      "source": [
        "#Arrayas using numpy\n",
        "\n",
        "#array creation\n",
        "from numpy import *\n",
        "arr1 =array([1,2,3,4,5])\n",
        "arr2 =array([6,7,8,9,10])\n",
        "print(\"First created array is:\",arr1)\n",
        "print(\"Second created array is:\",arr2)\n",
        "\n",
        "#dimensions\n",
        "print(\"dimensions of arary1 and array2 is:\",arr1.ndim,\",\",arr2.ndim)\n",
        "\n",
        "#shape\n",
        "print(\"shapes of arary1 and array2 is:\",arr1.shape,\",\",arr2.shape)\n",
        "\n",
        "#addition\n",
        "print(\"The sum of two arrays is:\",add(arr1,arr2))\n",
        "\n",
        "#multiplication\n",
        "print(\"Multiplication of two arrays is\",multiply(arr1,arr2))\n",
        "#division\n",
        "print(\"Multiplication of two arrays is\",divide(arr1,arr2))\n",
        "\n",
        "#power off\n",
        "print(\"power of arr1 is\",power(arr1,2))\n",
        "\n",
        "#concatination\n",
        "print(\"concatination of two arrays is\",concatenate((arr1,arr2),axis=None))\n",
        "\n",
        "#concationation of strings\n",
        "s1=array([\"Rishik\",\"Reddy\"])\n",
        "s2=array([\"in\",\"SR\",\"university\"])\n",
        "print(\"concatination of two string arrays is\",concatenate((s1,s2),axis=None))\n",
        "\n"
      ],
      "metadata": {
        "id": "HgwXxmJHqnDr"
      },
      "execution_count": null,
      "outputs": []
    },
    {
      "cell_type": "code",
      "source": [
        "#type()\n",
        "from numpy import *\n",
        "arr1 =array([1,2,3,4,5])\n",
        "l=[1,2,3]\n",
        "\n",
        "print(\"Type of arr1 is \",type(arr1))\n",
        "print(\"Type of l is \",type(l))"
      ],
      "metadata": {
        "id": "7D2Gla2RsL-1"
      },
      "execution_count": null,
      "outputs": []
    },
    {
      "cell_type": "code",
      "source": [
        "#sin,log,log2,exp in numpy\n",
        "\n",
        "import numpy as np\n",
        "print(\"sin(10)=\",np.sin(10))\n",
        "print(\"log(25)=\",np.log(25))\n",
        "print(\"log2(25)=\",np.log2(25))\n",
        "x = np.array([1, 2, 3])\n",
        "exp_arr = np.exp(x)\n",
        "print(\"exponetial value to base e\",exp_arr)"
      ],
      "metadata": {
        "id": "3uQc2KMOxorm"
      },
      "execution_count": null,
      "outputs": []
    },
    {
      "cell_type": "markdown",
      "source": [
        "part - 2\n",
        "Visualiation of data\n"
      ],
      "metadata": {
        "id": "QuSU6SFz0aS5"
      }
    },
    {
      "cell_type": "code",
      "source": [
        "import matplotlib.pyplot as plt\n",
        "import numpy as np\n",
        "import pandas as pd\n",
        "x = np.array([5,7,8,7,2,17,2,9,4,11,12,9,6])\n",
        "y = np.array([99,86,87,88,111,86,103,87,94,78,77,85,86])\n",
        "\n",
        "data ={\n",
        "\"people\" : [\"kiran\", \"arun\", \"vijay\", \"varun\"],\n",
        "\"age\" :[25, 30, 35, 40],\n",
        "\"height\" :[145, 151, 165, 173],\n",
        "\"weight\" :[45, 55, 65, 75]\n",
        "}\n",
        "df = pd.DataFrame(data)\n",
        "print(df,\"\\n\\n\\n\")\n",
        "\n",
        "plt.scatter(x, y)\n",
        "plt.show()\n",
        "plt.bar(x,y)\n",
        "plt.show()\n",
        "x = np.random.normal(170, 10, 250)\n",
        "plt.hist(x)\n",
        "plt.show()"
      ],
      "metadata": {
        "colab": {
          "base_uri": "https://localhost:8080/",
          "height": 1000
        },
        "id": "4JLiL3ll0mc0",
        "outputId": "e5a9c039-9bbe-46c6-aba8-f9fc846d62c9"
      },
      "execution_count": null,
      "outputs": [
        {
          "output_type": "stream",
          "name": "stdout",
          "text": [
            "  people  age  height  weight\n",
            "0  kiran   25     145      45\n",
            "1   arun   30     151      55\n",
            "2  vijay   35     165      65\n",
            "3  varun   40     173      75 \n",
            "\n",
            "\n",
            "\n"
          ]
        },
        {
          "output_type": "display_data",
          "data": {
            "text/plain": [
              "<Figure size 640x480 with 1 Axes>"
            ],
            "image/png": "[encoded data removed]"
          },
          "metadata": {}
        },
        {
          "output_type": "display_data",
          "data": {
            "text/plain": [
              "<Figure size 640x480 with 1 Axes>"
            ],
            "image/png": "[encoded data removed]"
          },
          "metadata": {}
        },
        {
          "output_type": "display_data",
          "data": {
            "text/plain": [
              "<Figure size 640x480 with 1 Axes>"
            ],
            "image/png": "[encoded data removed]"
          },
          "metadata": {}
        }
      ]
    }
  ]
}